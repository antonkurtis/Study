{
 "cells": [
  {
   "cell_type": "markdown",
   "metadata": {},
   "source": [
    "# Тестовый тренировочный ноутбук"
   ]
  },
  {
   "cell_type": "markdown",
   "metadata": {},
   "source": [
    "## Переменные и их типы"
   ]
  },
  {
   "cell_type": "code",
   "execution_count": 10,
   "metadata": {},
   "outputs": [
    {
     "name": "stdout",
     "output_type": "stream",
     "text": [
      "Всем привет!\n",
      "1984\n"
     ]
    }
   ],
   "source": [
    "print('Всем привет!') # вывод строковой переменной\n",
    "print(1984) # вывод численной переменной"
   ]
  },
  {
   "cell_type": "markdown",
   "metadata": {},
   "source": [
    "### Присвоение значения переменной"
   ]
  },
  {
   "cell_type": "code",
   "execution_count": 18,
   "metadata": {},
   "outputs": [
    {
     "name": "stdout",
     "output_type": "stream",
     "text": [
      "-Всем привет!\n",
      "-И вам тоже здравствуйте\n"
     ]
    }
   ],
   "source": [
    "x = '-Всем привет!'\n",
    "a = '-И вам ' # регистр имеет значение\n",
    "A = 'тоже здравствуйте' # та же самая переменная, но заглавная - другая переменная\n",
    "b = a + A\n",
    "print(x)\n",
    "print(b)"
   ]
  },
  {
   "cell_type": "markdown",
   "metadata": {},
   "source": [
    "### Териновочная задача"
   ]
  },
  {
   "cell_type": "code",
   "execution_count": 30,
   "metadata": {},
   "outputs": [
    {
     "name": "stdout",
     "output_type": "stream",
     "text": [
      "1 9 8 4\n",
      "22\n"
     ]
    }
   ],
   "source": [
    "# Посчитать сумму цифр числа\n",
    "x = 1984\n",
    "x_1 = x // 1000\n",
    "print(x_1, x_2, x_3, x_4)\n",
    "x_2 = x // 100 % 10\n",
    "x_3 = x // 10 % 10\n",
    "x_4 = x % 10\n",
    "a = x_1 + x_2 + x_3 + x_4\n",
    "print(a)"
   ]
  },
  {
   "cell_type": "code",
   "execution_count": 71,
   "metadata": {},
   "outputs": [
    {
     "name": "stdout",
     "output_type": "stream",
     "text": [
      "Введите количество минут:205\n",
      "3 : 25\n"
     ]
    }
   ],
   "source": [
    "# Перевести указанные минуты в электронные часы\n",
    "\n",
    "minutes = int(input('Введите количество минут:')) # добавил ввод числа c аргументом\n",
    "a = minutes // 60\n",
    "b = minutes % 60\n",
    "print(a, ':', b)"
   ]
  },
  {
   "cell_type": "code",
   "execution_count": 68,
   "metadata": {},
   "outputs": [
    {
     "name": "stdout",
     "output_type": "stream",
     "text": [
      "21\n",
      "True\n"
     ]
    }
   ],
   "source": [
    "# Задача про Булевы переменные\n",
    "\n",
    "x = int(input()) # добавил ввод числа\n",
    "visit_time1 = 6 <= x <=10\n",
    "visit_time2 = 18 <= x <=22\n",
    "print(visit_time1 or visit_time2)"
   ]
  },
  {
   "cell_type": "code",
   "execution_count": 62,
   "metadata": {},
   "outputs": [],
   "source": [
    "from math import ceil"
   ]
  },
  {
   "cell_type": "markdown",
   "metadata": {},
   "source": [
    "### Дано вещественное число. Выведите его дробную часть."
   ]
  },
  {
   "cell_type": "code",
   "execution_count": 69,
   "metadata": {},
   "outputs": [
    {
     "name": "stdout",
     "output_type": "stream",
     "text": [
      "5.5\n",
      "0.5\n"
     ]
    }
   ],
   "source": [
    "# Дано вещественное число. Выведите его дробную часть.\n",
    "\n",
    "x = float(input()) # добавил ввод числа с преобразованием\n",
    "print(x - int(x))"
   ]
  },
  {
   "cell_type": "markdown",
   "metadata": {},
   "source": [
    "### Склейка строк"
   ]
  },
  {
   "cell_type": "code",
   "execution_count": 72,
   "metadata": {},
   "outputs": [
    {
     "name": "stdout",
     "output_type": "stream",
     "text": [
      "Введите слово для конвертации:Унитаз\n",
      "Унитазyay\n"
     ]
    }
   ],
   "source": [
    "# Задача на склейку строк\n",
    "word = input('Введите слово для конвертации:')\n",
    "result = word + 'yay'\n",
    "print(result)"
   ]
  },
  {
   "cell_type": "markdown",
   "metadata": {},
   "source": [
    "### Задача "
   ]
  },
  {
   "cell_type": "code",
   "execution_count": 80,
   "metadata": {},
   "outputs": [
    {
     "name": "stdout",
     "output_type": "stream",
     "text": [
      "Введите число :5.2\n",
      "731\n"
     ]
    }
   ],
   "source": [
    "# ВВедите целое число, умножте его на себя же и вовзедите в квадрат\n",
    "x = float(input('Введите число :')) # Добавил ввод целого\\дробного числа\n",
    "y = ((x * x)**2)\n",
    "print(round(y)) # сделал округление результата"
   ]
  },
  {
   "cell_type": "markdown",
   "metadata": {},
   "source": [
    "### Задача : умножение на 11 двузначного числа"
   ]
  },
  {
   "cell_type": "code",
   "execution_count": 7,
   "metadata": {},
   "outputs": [
    {
     "name": "stdout",
     "output_type": "stream",
     "text": [
      "Введите двузначное число :66\n",
      "726\n"
     ]
    }
   ],
   "source": [
    "x = int(input('Введите двузначное число :'))\n",
    "a = x // 10\n",
    "b = x % 10\n",
    "c = a + b\n",
    "if c < 10:\n",
    "    print(str(a) + str(c) + str(b))\n",
    "else:\n",
    "    print(str(a + 1) + str(c % 10) + str(b))"
   ]
  },
  {
   "cell_type": "markdown",
   "metadata": {},
   "source": [
    "### Форматирование строк"
   ]
  },
  {
   "cell_type": "code",
   "execution_count": 8,
   "metadata": {},
   "outputs": [
    {
     "name": "stdout",
     "output_type": "stream",
     "text": [
      "3.141592653589793\n"
     ]
    }
   ],
   "source": [
    "import math\n",
    "print(math.pi)"
   ]
  },
  {
   "cell_type": "code",
   "execution_count": null,
   "metadata": {},
   "outputs": [],
   "source": []
  }
 ],
 "metadata": {
  "kernelspec": {
   "display_name": "Python 3",
   "language": "python",
   "name": "python3"
  },
  "language_info": {
   "codemirror_mode": {
    "name": "ipython",
    "version": 3
   },
   "file_extension": ".py",
   "mimetype": "text/x-python",
   "name": "python",
   "nbconvert_exporter": "python",
   "pygments_lexer": "ipython3",
   "version": "3.7.6"
  }
 },
 "nbformat": 4,
 "nbformat_minor": 4
}
